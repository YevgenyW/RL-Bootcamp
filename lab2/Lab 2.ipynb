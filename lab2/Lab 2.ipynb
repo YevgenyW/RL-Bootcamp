{
 "cells": [
  {
   "cell_type": "code",
   "execution_count": 36,
   "metadata": {
    "ExecuteTime": {
     "end_time": "2019-08-07T07:46:45.874738Z",
     "start_time": "2019-08-07T07:46:45.868822Z"
    },
    "collapsed": true
   },
   "outputs": [],
   "source": [
    "\"\"\"\n",
    "This project was developed by Peter Chen, Rocky Duan, Pieter Abbeel for the Berkeley Deep RL Bootcamp, August 2017.\n",
    "Bootcamp website with slides and lecture videos: https://sites.google.com/view/deep-rl-bootcamp/.\n",
    "\n",
    "Code adapted from Stanford CS231N materials: http://cs231n.stanford.edu/\n",
    "\"\"\"\n",
    "\n",
    "\n",
    "# note to properly run this lab, you should execute all code blocks sequentially\n",
    "import chainer\n",
    "import chainer.functions as F\n",
    "import chainer.links as L\n",
    "from chainer import training\n",
    "from chainer.training import extensions\n",
    "\n",
    "from collections import namedtuple, defaultdict, deque\n",
    "\n",
    "import numpy as np\n",
    "\n",
    "%matplotlib inline\n",
    "\n",
    "import matplotlib\n",
    "import matplotlib.pyplot as plt"
   ]
  },
  {
   "cell_type": "markdown",
   "metadata": {},
   "source": [
    "## Introduction to Chainer\n",
    "\n",
    "Chainer can be understood as Numpy plus the ability to record the computation graph of numerical operations to enable Automatic Differentiation. (Chainer actually also offers many other things; for example, a Numpy equivalent library that runs on GPU, but we will ignore them for now)"
   ]
  },
  {
   "cell_type": "markdown",
   "metadata": {},
   "source": [
    "Let's illustrate how Chainer works by a simple 1D regression task.\n",
    "\n",
    "Suppose we have observations from the following model $y = w x + b + \\epsilon$ where $\\epsilon \\sim \\mathcal{N}(0, 0.1)$ and the task is to estimate the linear model parameters $w, b$ from data."
   ]
  },
  {
   "cell_type": "code",
   "execution_count": 37,
   "metadata": {
    "ExecuteTime": {
     "end_time": "2019-08-07T07:46:46.068298Z",
     "start_time": "2019-08-07T07:46:45.877135Z"
    }
   },
   "outputs": [
    {
     "data": {
      "image/png": "[encoded data removed]",
      "text/plain": [
       "<matplotlib.figure.Figure at 0x10c24a390>"
      ]
     },
     "metadata": {
      "needs_background": "light"
     },
     "output_type": "display_data"
    }
   ],
   "source": [
    "# first generate some observations\n",
    "true_a = 1.3\n",
    "true_b = 0.4\n",
    "data_x = (np.arange(100) / 99.0 - .5).astype(np.float32) # Chainer assumes all the cpu computation is done in float32\n",
    "data_y = (data_x * true_a + true_b + np.random.randn(*data_x.shape) * 0.1).astype(np.float32)\n",
    "_ = plt.scatter(data_x, data_y, c='b')"
   ]
  },
  {
   "cell_type": "markdown",
   "metadata": {},
   "source": [
    "Chainer provides an abstraction called `Link` that describe some computation and keeps track of parameters for it. For instance, a `Linear` link describes a linear map on input and keeps track of `w` and bias `b`."
   ]
  },
  {
   "cell_type": "code",
   "execution_count": 38,
   "metadata": {
    "ExecuteTime": {
     "end_time": "2019-08-07T07:46:46.079877Z",
     "start_time": "2019-08-07T07:46:46.070455Z"
    }
   },
   "outputs": [
    {
     "name": "stdout",
     "output_type": "stream",
     "text": [
      "w: variable W([[-0.1632278]])\n",
      "b: variable b([ 0.])\n",
      "Operations on chainer.Variable: variable([[ 122.8367691]]), type: <class 'chainer.variable.Variable'>\n",
      "numpy arrays: [[-0.1632278]] [[ 122.8367691]]\n"
     ]
    }
   ],
   "source": [
    "model = L.Linear(in_size=1, out_size=1) # input is 1D data and output is also 1D data\n",
    "\n",
    "# Chainer will randomly initialize `w` and `b` for us.\n",
    "# we can take a look at their values\n",
    "print(\"w:\", model.W)\n",
    "print(\"b:\", model.b)\n",
    "\n",
    "# model.W and model.b have type `chainer.Variable`, \n",
    "#   which is a wrapper around Numpy array\n",
    "assert isinstance(model.W, chainer.Variable)\n",
    "\n",
    "# operations that involve `chainer.Variable` will produce\n",
    "#   `chainer.Variable` and this records the computation graph\n",
    "var_result = model.W + 123 # some random computation\n",
    "print(\"Operations on chainer.Variable: %s, type: %s\" % (var_result, type(var_result)))\n",
    "\n",
    "# the underlying numpy array can be accessed by `data` attribute\n",
    "print(\"numpy arrays:\", model.W.data, var_result.data)"
   ]
  },
  {
   "cell_type": "code",
   "execution_count": 39,
   "metadata": {
    "ExecuteTime": {
     "end_time": "2019-08-07T07:46:46.282473Z",
     "start_time": "2019-08-07T07:46:46.082116Z"
    }
   },
   "outputs": [
    {
     "data": {
      "image/png": "[encoded data removed]",
      "text/plain": [
       "<matplotlib.figure.Figure at 0x115a76240>"
      ]
     },
     "metadata": {
      "needs_background": "light"
     },
     "output_type": "display_data"
    }
   ],
   "source": [
    "# A chainer link is a callable object. calling it performs the\n",
    "#   forward computation. (in this case, it performs Wx + b)\n",
    "model_y = model(data_x[:, None]) # chainer's link usually assumes \n",
    "# input is [Batch Size, Input Dimension]\n",
    "# `model_y` is a chainer variable so we use `.data` to access its numpy array for plotting\n",
    "\n",
    "# we can plot the model's current fit in red. it should be terrible because we haven't trained it yet\n",
    "_ = plt.plot(data_x, model_y.data[:,0], c='r')\n",
    "_ = plt.scatter(data_x, data_y, c='b')\n",
    "_ = plt.title(\"Initial model\")"
   ]
  },
  {
   "cell_type": "code",
   "execution_count": 40,
   "metadata": {
    "ExecuteTime": {
     "end_time": "2019-08-07T07:46:46.292455Z",
     "start_time": "2019-08-07T07:46:46.284794Z"
    }
   },
   "outputs": [
    {
     "name": "stdout",
     "output_type": "stream",
     "text": [
      "loss variable(0.3354155421257019)\n",
      "dloss/dW [[-0.2443863]]\n"
     ]
    }
   ],
   "source": [
    "# now let's walk through how to perform forward computation\n",
    "#  and use AD to get gradients\n",
    "\n",
    "# first we clear the gradients that are stored in the model\n",
    "model.cleargrads()\n",
    "# as we have seen we can perform forward computation by calling the link\n",
    "model_y = model(data_x[:, None])\n",
    "\n",
    "# remember that `model_y` is a chainer variable. to operate on chainer variable\n",
    "#    we will use functions from chainer.functions to operate on those objects.\n",
    "loss = F.mean(F.square(model_y - data_y[:, None]))\n",
    "# `loss` is a scalar chainer variable\n",
    "assert isinstance(loss, chainer.Variable)\n",
    "print(\"loss\", loss)\n",
    "# calculating gradients d loss /d params is as simple as\n",
    "loss.backward()\n",
    "\n",
    "# we can inspect the gradient of loss with respect to W\n",
    "print(\"dloss/dW\", model.W.grad)"
   ]
  },
  {
   "cell_type": "markdown",
   "metadata": {},
   "source": [
    "Now that we know how to calculate gradients, we can code up a simple loop to perform gradient descent to train this model:\n",
    "\n",
    "(Hint: if you run into weird problems, maybe the state has been messed up and you can try re-runing all the code blocks from the beginning)"
   ]
  },
  {
   "cell_type": "code",
   "execution_count": 41,
   "metadata": {
    "ExecuteTime": {
     "end_time": "2019-08-07T07:46:46.783145Z",
     "start_time": "2019-08-07T07:46:46.294921Z"
    }
   },
   "outputs": [
    {
     "name": "stdout",
     "output_type": "stream",
     "text": [
      "Itr 0 loss: variable(0.20868393778800964)\n",
      "Itr 25 loss: variable(0.030668465420603752)\n",
      "Itr 50 loss: variable(0.018723445013165474)\n",
      "Itr 75 loss: variable(0.013656912371516228)\n"
     ]
    },
    {
     "data": {
      "image/png": "[encoded data removed]",
      "text/plain": [
       "<matplotlib.figure.Figure at 0x115999710>"
      ]
     },
     "metadata": {
      "needs_background": "light"
     },
     "output_type": "display_data"
    },
    {
     "data": {
      "image/png": "[encoded data removed]",
      "text/plain": [
       "<matplotlib.figure.Figure at 0x115b3c940>"
      ]
     },
     "metadata": {
      "needs_background": "light"
     },
     "output_type": "display_data"
    }
   ],
   "source": [
    "# now we can perform gradient descent to improve this model\n",
    "model = L.Linear(in_size=1, out_size=1)\n",
    "losses = []\n",
    "\n",
    "lr = 0.1\n",
    "\n",
    "for i in range(100):\n",
    "    model.cleargrads()\n",
    "    \n",
    "    model_y = model(data_x[:, None])\n",
    "    \n",
    "    loss = F.mean(F.square(model(data_x[:, None]) - data_y[:, None]))\n",
    "    losses.append(float(loss.data))\n",
    "    \n",
    "    loss.backward()\n",
    "\n",
    "    model.W.data[:]=model.W.data[:]-lr*model.W.grad\n",
    "    model.b.data[:]=model.b.data[:]-lr*model.b.grad\n",
    "    ## *** YOUR CODE HERE TO PERFORM GRADIENT DESCENT ***\n",
    "    ## Hint: you could access gradients with model.W.grad, model.b.grad\n",
    "    ## Hint2: you could write data into a parameter with model.W.data[:] = some_numpy_array\n",
    "    ## Hint3: if your model doesn't learn, remember to try different learning rates\n",
    "    if i % 25 == 0:\n",
    "        print(\"Itr\", i, \"loss:\", loss)\n",
    "plt.plot(np.array(losses))\n",
    "plt.title(\"Learning curve\")\n",
    "plt.figure()\n",
    "plt.plot(data_x, model(data_x[:, None])[:,0].data, c='r')\n",
    "plt.scatter(data_x, data_y, c='b')\n",
    "_ = plt.title(\"Trained model fitness\")\n"
   ]
  },
  {
   "cell_type": "markdown",
   "metadata": {},
   "source": [
    "## Train your first deep model\n",
    "\n",
    "Now we have learned the basics of Chainer. We can use it to train a deep model to classify MNIST digits. We will train a model on the MNIST dataset because the dataset is small.\n",
    "\n",
    "First we load the data and see what the images look like:"
   ]
  },
  {
   "cell_type": "code",
   "execution_count": 42,
   "metadata": {
    "ExecuteTime": {
     "end_time": "2019-08-07T07:46:47.684721Z",
     "start_time": "2019-08-07T07:46:46.785585Z"
    },
    "scrolled": false
   },
   "outputs": [
    {
     "name": "stdout",
     "output_type": "stream",
     "text": [
      "train[i][0] is the ith image that's flattened, and has shape: (784,)\n",
      "train[i][1] is the ith image's label, such as: 3\n"
     ]
    },
    {
     "data": {
      "image/png": "[encoded data removed]",
      "text/plain": [
       "<matplotlib.figure.Figure at 0x128710550>"
      ]
     },
     "metadata": {
      "needs_background": "light"
     },
     "output_type": "display_data"
    },
    {
     "data": {
      "image/png": "[encoded data removed]",
      "text/plain": [
       "<matplotlib.figure.Figure at 0x1157e27b8>"
      ]
     },
     "metadata": {
      "needs_background": "light"
     },
     "output_type": "display_data"
    }
   ],
   "source": [
    "train, test = chainer.datasets.get_mnist()\n",
    "# use train[data_point_index] to access data\n",
    "print(\"train[i][0] is the ith image that's flattened, and has shape:\", train[12][0].shape)\n",
    "print(\"train[i][1] is the ith image's label, such as:\", train[12][1])\n",
    "# here we visualize two of them\n",
    "plt.imshow(train[12][0].reshape([28, 28,]))\n",
    "plt.title(\"Label: %s\" % train[12][1])\n",
    "plt.figure()\n",
    "plt.imshow(train[42][0].reshape([28, 28,]))\n",
    "_ = plt.title(\"Label: %s\" % train[42][1])"
   ]
  },
  {
   "cell_type": "markdown",
   "metadata": {},
   "source": [
    "Next we will provide some boilerplate code and train a linear classifier as an example:"
   ]
  },
  {
   "cell_type": "code",
   "execution_count": 43,
   "metadata": {
    "ExecuteTime": {
     "end_time": "2019-08-07T07:46:54.360620Z",
     "start_time": "2019-08-07T07:46:47.687133Z"
    }
   },
   "outputs": [
    {
     "name": "stdout",
     "output_type": "stream",
     "text": [
      "accuracy: 0.25; loss: 2.21022701263\n",
      "accuracy: 0.8575; loss: 0.631291122437\n",
      "accuracy: 0.8675; loss: 0.470859856606\n",
      "accuracy: 0.8975; loss: 0.404541460276\n",
      "accuracy: 0.9; loss: 0.421764822602\n",
      "accuracy: 0.9225; loss: 0.286255772114\n",
      "accuracy: 0.895; loss: 0.34969296217\n",
      "accuracy: 0.9075; loss: 0.358279608488\n",
      "accuracy: 0.8875; loss: 0.363807317019\n",
      "accuracy: 0.89; loss: 0.375064039826\n",
      "accuracy: 0.9225; loss: 0.250779938102\n",
      "accuracy: 0.91; loss: 0.290201970935\n",
      "accuracy: 0.9; loss: 0.315132289529\n",
      "accuracy: 0.915; loss: 0.291153380275\n",
      "accuracy: 0.9; loss: 0.347721108794\n",
      "accuracy: 0.9325; loss: 0.257123024762\n",
      "accuracy: 0.9125; loss: 0.319158774614\n",
      "accuracy: 0.9375; loss: 0.268450179696\n",
      "accuracy: 0.9175; loss: 0.294675617218\n",
      "accuracy: 0.915; loss: 0.293127434552\n",
      "accuracy: 0.91; loss: 0.276857803464\n",
      "accuracy: 0.92; loss: 0.280739489794\n",
      "accuracy: 0.8925; loss: 0.340912103355\n",
      "accuracy: 0.9475; loss: 0.259452847987\n",
      "accuracy: 0.9375; loss: 0.226698586941\n",
      "accuracy: 0.91; loss: 0.325979725718\n"
     ]
    }
   ],
   "source": [
    "def run(model, batchsize=16, num_epochs=2):\n",
    "    \n",
    "    optimizer = chainer.optimizers.Adam() # we will use chainer's Adam implementation instead of writing our own gradient based optimization\n",
    "    optimizer.setup(model)\n",
    "    \n",
    "    stats = defaultdict(lambda: deque(maxlen=25))\n",
    "    for epoch in range(num_epochs):\n",
    "        train_iter = chainer.iterators.SerialIterator(train, batchsize, repeat=False, shuffle=True)\n",
    "        test_iter = chainer.iterators.SerialIterator(test, batchsize, repeat=False, shuffle=False)\n",
    "        \n",
    "        for itr, batch in enumerate(train_iter):\n",
    "            xs = np.concatenate([datum[0][None, :] for datum in batch])\n",
    "            ys = np.array([datum[1] for datum in batch])\n",
    "\n",
    "            logits = model(xs)\n",
    "\n",
    "            loss = F.softmax_cross_entropy(logits, ys)\n",
    "            model.cleargrads()\n",
    "            loss.backward()\n",
    "            optimizer.update()\n",
    "            \n",
    "            # calculate stats\n",
    "            stats[\"loss\"].append(float(loss.data))\n",
    "            stats[\"accuracy\"].append(float((logits.data.argmax(1) == ys).sum() / batchsize))\n",
    "            if itr % 300 == 0:\n",
    "                print(\"; \".join(\"%s: %s\" % (k, np.mean(vs)) for k, vs in stats.items()))\n",
    "\n",
    "# try a simple linear model\n",
    "run(L.Linear(None, 10))"
   ]
  },
  {
   "cell_type": "markdown",
   "metadata": {},
   "source": [
    "Next we will try to improve performance by training an MLP instead. A partial implementation is provided for you to fill in:"
   ]
  },
  {
   "cell_type": "code",
   "execution_count": 44,
   "metadata": {
    "ExecuteTime": {
     "end_time": "2019-08-07T07:46:54.388425Z",
     "start_time": "2019-08-07T07:46:54.363117Z"
    }
   },
   "outputs": [
    {
     "ename": "NotImplementedError",
     "evalue": "",
     "output_type": "error",
     "traceback": [
      "\u001b[0;31m---------------------------------------------------------------------------\u001b[0m",
      "\u001b[0;31mNotImplementedError\u001b[0m                       Traceback (most recent call last)",
      "\u001b[0;32m<ipython-input-44-6efe42bfbe2d>\u001b[0m in \u001b[0;36m<module>\u001b[0;34m()\u001b[0m\n\u001b[1;32m     15\u001b[0m         \u001b[0;31m#     https://docs.chainer.org/en/stable/reference/functions.html#activation-functions\u001b[0m\u001b[0;34m\u001b[0m\u001b[0;34m\u001b[0m\u001b[0m\n\u001b[1;32m     16\u001b[0m         \u001b[0;32mraise\u001b[0m \u001b[0mNotImplementedError\u001b[0m\u001b[0;34m(\u001b[0m\u001b[0;34m)\u001b[0m\u001b[0;34m\u001b[0m\u001b[0m\n\u001b[0;32m---> 17\u001b[0;31m \u001b[0mrun\u001b[0m\u001b[0;34m(\u001b[0m\u001b[0mMLP\u001b[0m\u001b[0;34m(\u001b[0m\u001b[0;36m200\u001b[0m\u001b[0;34m,\u001b[0m \u001b[0;36m10\u001b[0m\u001b[0;34m)\u001b[0m\u001b[0;34m)\u001b[0m\u001b[0;34m\u001b[0m\u001b[0m\n\u001b[0m",
      "\u001b[0;32m<ipython-input-43-06778ee8538a>\u001b[0m in \u001b[0;36mrun\u001b[0;34m(model, batchsize, num_epochs)\u001b[0m\n\u001b[1;32m     13\u001b[0m             \u001b[0mys\u001b[0m \u001b[0;34m=\u001b[0m \u001b[0mnp\u001b[0m\u001b[0;34m.\u001b[0m\u001b[0marray\u001b[0m\u001b[0;34m(\u001b[0m\u001b[0;34m[\u001b[0m\u001b[0mdatum\u001b[0m\u001b[0;34m[\u001b[0m\u001b[0;36m1\u001b[0m\u001b[0;34m]\u001b[0m \u001b[0;32mfor\u001b[0m \u001b[0mdatum\u001b[0m \u001b[0;32min\u001b[0m \u001b[0mbatch\u001b[0m\u001b[0;34m]\u001b[0m\u001b[0;34m)\u001b[0m\u001b[0;34m\u001b[0m\u001b[0m\n\u001b[1;32m     14\u001b[0m \u001b[0;34m\u001b[0m\u001b[0m\n\u001b[0;32m---> 15\u001b[0;31m             \u001b[0mlogits\u001b[0m \u001b[0;34m=\u001b[0m \u001b[0mmodel\u001b[0m\u001b[0;34m(\u001b[0m\u001b[0mxs\u001b[0m\u001b[0;34m)\u001b[0m\u001b[0;34m\u001b[0m\u001b[0m\n\u001b[0m\u001b[1;32m     16\u001b[0m \u001b[0;34m\u001b[0m\u001b[0m\n\u001b[1;32m     17\u001b[0m             \u001b[0mloss\u001b[0m \u001b[0;34m=\u001b[0m \u001b[0mF\u001b[0m\u001b[0;34m.\u001b[0m\u001b[0msoftmax_cross_entropy\u001b[0m\u001b[0;34m(\u001b[0m\u001b[0mlogits\u001b[0m\u001b[0;34m,\u001b[0m \u001b[0mys\u001b[0m\u001b[0;34m)\u001b[0m\u001b[0;34m\u001b[0m\u001b[0m\n",
      "\u001b[0;32m<ipython-input-44-6efe42bfbe2d>\u001b[0m in \u001b[0;36m__call__\u001b[0;34m(self, x)\u001b[0m\n\u001b[1;32m     14\u001b[0m         \u001b[0;31m# Hint: you should make use of non-linearities / activation functions\u001b[0m\u001b[0;34m\u001b[0m\u001b[0;34m\u001b[0m\u001b[0m\n\u001b[1;32m     15\u001b[0m         \u001b[0;31m#     https://docs.chainer.org/en/stable/reference/functions.html#activation-functions\u001b[0m\u001b[0;34m\u001b[0m\u001b[0;34m\u001b[0m\u001b[0m\n\u001b[0;32m---> 16\u001b[0;31m         \u001b[0;32mraise\u001b[0m \u001b[0mNotImplementedError\u001b[0m\u001b[0;34m(\u001b[0m\u001b[0;34m)\u001b[0m\u001b[0;34m\u001b[0m\u001b[0m\n\u001b[0m\u001b[1;32m     17\u001b[0m \u001b[0mrun\u001b[0m\u001b[0;34m(\u001b[0m\u001b[0mMLP\u001b[0m\u001b[0;34m(\u001b[0m\u001b[0;36m200\u001b[0m\u001b[0;34m,\u001b[0m \u001b[0;36m10\u001b[0m\u001b[0;34m)\u001b[0m\u001b[0;34m)\u001b[0m\u001b[0;34m\u001b[0m\u001b[0m\n",
      "\u001b[0;31mNotImplementedError\u001b[0m: "
     ]
    }
   ],
   "source": [
    "class MLP(chainer.Chain):\n",
    "\n",
    "    def __init__(self, n_units, n_out):\n",
    "        super(MLP, self).__init__()\n",
    "        with self.init_scope():\n",
    "            # the size of the inputs to each layer will be inferred\n",
    "            self.l1 = L.Linear(None, n_units)  # n_in -> n_units\n",
    "            self.l2 = L.Linear(None, n_units)  # n_units -> n_units\n",
    "            self.l3 = L.Linear(None, n_out)  # n_units -> n_out\n",
    "\n",
    "    def __call__(self, x):\n",
    "        # *** YOUR CODE HERE TO BUILD AN MLP W/ self.l1, self.l2, self.l3 ***\n",
    "        # \n",
    "        # Hint: you should make use of non-linearities / activation functions\n",
    "        #     https://docs.chainer.org/en/stable/reference/functions.html#activation-functions\n",
    "        raise NotImplementedError()\n",
    "run(MLP(200, 10))"
   ]
  },
  {
   "cell_type": "markdown",
   "metadata": {},
   "source": [
    "Next you should try to implement logging test loss and see if the model is overfitting."
   ]
  },
  {
   "cell_type": "code",
   "execution_count": null,
   "metadata": {
    "ExecuteTime": {
     "end_time": "2019-08-07T07:46:54.389496Z",
     "start_time": "2019-08-07T07:46:45.878Z"
    },
    "collapsed": true
   },
   "outputs": [],
   "source": [
    "def better_run(model, batchsize=16, num_epochs=2):\n",
    "\n",
    "    optimizer = chainer.optimizers.Adam() # we will use chainer's Adam implementation instead of writing our own gradient based optimization\n",
    "    optimizer.setup(model)\n",
    "    \n",
    "    stats = defaultdict(lambda: deque(maxlen=25))\n",
    "    for epoch in range(num_epochs):\n",
    "        train_iter = chainer.iterators.SerialIterator(train, batchsize, repeat=False, shuffle=True)\n",
    "        for itr, batch in enumerate(train_iter):\n",
    "            xs = np.concatenate([datum[0][None, :] for datum in batch])\n",
    "            ys = np.array([datum[1] for datum in batch])\n",
    "\n",
    "            logits = model(xs)\n",
    "\n",
    "            loss = F.softmax_cross_entropy(logits, ys)\n",
    "            model.cleargrads()\n",
    "            loss.backward()\n",
    "            optimizer.update()\n",
    "            \n",
    "            # calculate stats\n",
    "            stats[\"loss\"].append(float(loss.data))\n",
    "            stats[\"accuracy\"].append(float((logits.data.argmax(1) == ys).sum() / batchsize))\n",
    "            if itr % 300 == 0:\n",
    "                test_iter = chainer.iterators.SerialIterator(test, batchsize, repeat=False, shuffle=False)\n",
    "                # *** YOUR CODE implement logging of stats on test set ***\n",
    "                print(\"; \".join(\"%s: %s\" % (k, np.mean(vs)) for k, vs in stats.items()))\n",
    "\n",
    "better_run(MLP(200, 10))"
   ]
  },
  {
   "cell_type": "markdown",
   "metadata": {},
   "source": [
    "Try different variants!\n",
    "\n",
    "- Does using a ConvNet improve performance (reduce overfitting?)\n",
    "- Try changing the learning rate and observe the effect\n",
    "- Does the model train if you give it correlated gradients? (consecutively sample many batches of \"1\", then many batches of \"2\", ... etc"
   ]
  }
 ],
 "metadata": {
  "kernelspec": {
   "display_name": "Python 3",
   "language": "python",
   "name": "python3"
  },
  "language_info": {
   "codemirror_mode": {
    "name": "ipython",
    "version": 3
   },
   "file_extension": ".py",
   "mimetype": "text/x-python",
   "name": "python",
   "nbconvert_exporter": "python",
   "pygments_lexer": "ipython3",
   "version": "3.5.3"
  },
  "toc": {
   "base_numbering": 1,
   "nav_menu": {},
   "number_sections": true,
   "sideBar": true,
   "skip_h1_title": false,
   "title_cell": "Table of Contents",
   "title_sidebar": "Contents",
   "toc_cell": false,
   "toc_position": {},
   "toc_section_display": true,
   "toc_window_display": false
  },
  "varInspector": {
   "cols": {
    "lenName": 16,
    "lenType": 16,
    "lenVar": 40
   },
   "kernels_config": {
    "python": {
     "delete_cmd_postfix": "",
     "delete_cmd_prefix": "del ",
     "library": "var_list.py",
     "varRefreshCmd": "print(var_dic_list())"
    },
    "r": {
     "delete_cmd_postfix": ") ",
     "delete_cmd_prefix": "rm(",
     "library": "var_list.r",
     "varRefreshCmd": "cat(var_dic_list()) "
    }
   },
   "types_to_exclude": [
    "module",
    "function",
    "builtin_function_or_method",
    "instance",
    "_Feature"
   ],
   "window_display": false
  }
 },
 "nbformat": 4,
 "nbformat_minor": 1
}
