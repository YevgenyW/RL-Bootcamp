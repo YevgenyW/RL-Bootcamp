{
 "cells": [
  {
   "cell_type": "code",
   "execution_count": 94,
   "metadata": {
    "ExecuteTime": {
     "end_time": "2019-08-07T15:20:58.193098Z",
     "start_time": "2019-08-07T15:20:58.185591Z"
    },
    "collapsed": true
   },
   "outputs": [],
   "source": [
    "\"\"\"\n",
    "This project was developed by Peter Chen, Rocky Duan, Pieter Abbeel for the Berkeley Deep RL Bootcamp, August 2017.\n",
    "Bootcamp website with slides and lecture videos: https://sites.google.com/view/deep-rl-bootcamp/.\n",
    "\n",
    "Code adapted from Stanford CS231N materials: http://cs231n.stanford.edu/\n",
    "\"\"\"\n",
    "\n",
    "\n",
    "# note to properly run this lab, you should execute all code blocks sequentially\n",
    "import chainer\n",
    "import chainer.functions as F\n",
    "import chainer.links as L\n",
    "from chainer import training\n",
    "from chainer.training import extensions\n",
    "\n",
    "from collections import namedtuple, defaultdict, deque\n",
    "\n",
    "import numpy as np\n",
    "\n",
    "%matplotlib inline\n",
    "\n",
    "import matplotlib\n",
    "import matplotlib.pyplot as plt"
   ]
  },
  {
   "cell_type": "markdown",
   "metadata": {},
   "source": [
    "## Introduction to Chainer\n",
    "\n",
    "Chainer can be understood as Numpy plus the ability to record the computation graph of numerical operations to enable Automatic Differentiation. (Chainer actually also offers many other things; for example, a Numpy equivalent library that runs on GPU, but we will ignore them for now)"
   ]
  },
  {
   "cell_type": "markdown",
   "metadata": {},
   "source": [
    "Let's illustrate how Chainer works by a simple 1D regression task.\n",
    "\n",
    "Suppose we have observations from the following model $y = w x + b + \\epsilon$ where $\\epsilon \\sim \\mathcal{N}(0, 0.1)$ and the task is to estimate the linear model parameters $w, b$ from data."
   ]
  },
  {
   "cell_type": "code",
   "execution_count": 95,
   "metadata": {
    "ExecuteTime": {
     "end_time": "2019-08-07T15:20:58.390382Z",
     "start_time": "2019-08-07T15:20:58.195199Z"
    }
   },
   "outputs": [
    {
     "data": {
      "image/png": "[encoded data removed]",
      "text/plain": [
       "<matplotlib.figure.Figure at 0x12858c9b0>"
      ]
     },
     "metadata": {
      "needs_background": "light"
     },
     "output_type": "display_data"
    }
   ],
   "source": [
    "# first generate some observations\n",
    "true_a = 1.3\n",
    "true_b = 0.4\n",
    "data_x = (np.arange(100) / 99.0 - .5).astype(np.float32) # Chainer assumes all the cpu computation is done in float32\n",
    "data_y = (data_x * true_a + true_b + np.random.randn(*data_x.shape) * 0.1).astype(np.float32)\n",
    "_ = plt.scatter(data_x, data_y, c='b')"
   ]
  },
  {
   "cell_type": "markdown",
   "metadata": {},
   "source": [
    "Chainer provides an abstraction called `Link` that describe some computation and keeps track of parameters for it. For instance, a `Linear` link describes a linear map on input and keeps track of `w` and bias `b`."
   ]
  },
  {
   "cell_type": "code",
   "execution_count": 96,
   "metadata": {
    "ExecuteTime": {
     "end_time": "2019-08-07T15:20:58.400627Z",
     "start_time": "2019-08-07T15:20:58.392498Z"
    }
   },
   "outputs": [
    {
     "name": "stdout",
     "output_type": "stream",
     "text": [
      "w: variable W([[-0.0419906]])\n",
      "b: variable b([ 0.])\n",
      "Operations on chainer.Variable: variable([[ 122.95800781]]), type: <class 'chainer.variable.Variable'>\n",
      "numpy arrays: [[-0.0419906]] [[ 122.95800781]]\n"
     ]
    }
   ],
   "source": [
    "model = L.Linear(in_size=1, out_size=1) # input is 1D data and output is also 1D data\n",
    "\n",
    "# Chainer will randomly initialize `w` and `b` for us.\n",
    "# we can take a look at their values\n",
    "print(\"w:\", model.W)\n",
    "print(\"b:\", model.b)\n",
    "\n",
    "# model.W and model.b have type `chainer.Variable`, \n",
    "#   which is a wrapper around Numpy array\n",
    "assert isinstance(model.W, chainer.Variable)\n",
    "\n",
    "# operations that involve `chainer.Variable` will produce\n",
    "#   `chainer.Variable` and this records the computation graph\n",
    "var_result = model.W + 123 # some random computation\n",
    "print(\"Operations on chainer.Variable: %s, type: %s\" % (var_result, type(var_result)))\n",
    "\n",
    "# the underlying numpy array can be accessed by `data` attribute\n",
    "print(\"numpy arrays:\", model.W.data, var_result.data)"
   ]
  },
  {
   "cell_type": "code",
   "execution_count": 97,
   "metadata": {
    "ExecuteTime": {
     "end_time": "2019-08-07T15:20:58.610957Z",
     "start_time": "2019-08-07T15:20:58.403354Z"
    }
   },
   "outputs": [
    {
     "data": {
      "image/png": "[encoded data removed]",
      "text/plain": [
       "<matplotlib.figure.Figure at 0x1157434e0>"
      ]
     },
     "metadata": {
      "needs_background": "light"
     },
     "output_type": "display_data"
    }
   ],
   "source": [
    "# A chainer link is a callable object. calling it performs the\n",
    "#   forward computation. (in this case, it performs Wx + b)\n",
    "model_y = model(data_x[:, None]) # chainer's link usually assumes \n",
    "# input is [Batch Size, Input Dimension]\n",
    "# `model_y` is a chainer variable so we use `.data` to access its numpy array for plotting\n",
    "\n",
    "# we can plot the model's current fit in red. it should be terrible because we haven't trained it yet\n",
    "_ = plt.plot(data_x, model_y.data[:,0], c='r')\n",
    "_ = plt.scatter(data_x, data_y, c='b')\n",
    "_ = plt.title(\"Initial model\")"
   ]
  },
  {
   "cell_type": "code",
   "execution_count": 98,
   "metadata": {
    "ExecuteTime": {
     "end_time": "2019-08-07T15:20:58.620019Z",
     "start_time": "2019-08-07T15:20:58.613361Z"
    }
   },
   "outputs": [
    {
     "name": "stdout",
     "output_type": "stream",
     "text": [
      "loss variable(0.34495845437049866)\n",
      "dloss/dW [[-0.23856586]]\n"
     ]
    }
   ],
   "source": [
    "# now let's walk through how to perform forward computation\n",
    "#  and use AD to get gradients\n",
    "\n",
    "# first we clear the gradients that are stored in the model\n",
    "model.cleargrads()\n",
    "# as we have seen we can perform forward computation by calling the link\n",
    "model_y = model(data_x[:, None])\n",
    "\n",
    "# remember that `model_y` is a chainer variable. to operate on chainer variable\n",
    "#    we will use functions from chainer.functions to operate on those objects.\n",
    "loss = F.mean(F.square(model_y - data_y[:, None]))\n",
    "# `loss` is a scalar chainer variable\n",
    "assert isinstance(loss, chainer.Variable)\n",
    "print(\"loss\", loss)\n",
    "# calculating gradients d loss /d params is as simple as\n",
    "loss.backward()\n",
    "\n",
    "# we can inspect the gradient of loss with respect to W\n",
    "print(\"dloss/dW\", model.W.grad)"
   ]
  },
  {
   "cell_type": "markdown",
   "metadata": {},
   "source": [
    "Now that we know how to calculate gradients, we can code up a simple loop to perform gradient descent to train this model:\n",
    "\n",
    "(Hint: if you run into weird problems, maybe the state has been messed up and you can try re-runing all the code blocks from the beginning)"
   ]
  },
  {
   "cell_type": "code",
   "execution_count": 99,
   "metadata": {
    "ExecuteTime": {
     "end_time": "2019-08-07T15:20:59.081345Z",
     "start_time": "2019-08-07T15:20:58.623490Z"
    }
   },
   "outputs": [
    {
     "name": "stdout",
     "output_type": "stream",
     "text": [
      "Itr 0 loss: variable(0.3004017174243927)\n",
      "Itr 25 loss: variable(0.07108345627784729)\n",
      "Itr 50 loss: variable(0.04035722464323044)\n",
      "Itr 75 loss: variable(0.02487928606569767)\n"
     ]
    },
    {
     "data": {
      "image/png": "[encoded data removed]",
      "text/plain": [
       "<matplotlib.figure.Figure at 0x10c2005f8>"
      ]
     },
     "metadata": {
      "needs_background": "light"
     },
     "output_type": "display_data"
    },
    {
     "data": {
      "image/png": "[encoded data removed]",
      "text/plain": [
       "<matplotlib.figure.Figure at 0x128839fd0>"
      ]
     },
     "metadata": {
      "needs_background": "light"
     },
     "output_type": "display_data"
    }
   ],
   "source": [
    "# now we can perform gradient descent to improve this model\n",
    "model = L.Linear(in_size=1, out_size=1)\n",
    "losses = []\n",
    "\n",
    "lr = 0.08\n",
    "\n",
    "for i in range(100):\n",
    "    model.cleargrads()\n",
    "    \n",
    "    model_y = model(data_x[:, None])\n",
    "    \n",
    "    loss = F.mean(F.square(model(data_x[:, None]) - data_y[:, None]))\n",
    "    losses.append(float(loss.data))\n",
    "    \n",
    "    loss.backward()\n",
    "\n",
    "    model.W.data[:]=model.W.data[:]-lr*model.W.grad\n",
    "    model.b.data[:]=model.b.data[:]-lr*model.b.grad\n",
    "    ## *** YOUR CODE HERE TO PERFORM GRADIENT DESCENT ***\n",
    "    ## Hint: you could access gradients with model.W.grad, model.b.grad\n",
    "    ## Hint2: you could write data into a parameter with model.W.data[:] = some_numpy_array\n",
    "    ## Hint3: if your model doesn't learn, remember to try different learning rates\n",
    "    if i % 25 == 0:\n",
    "        print(\"Itr\", i, \"loss:\", loss)\n",
    "plt.plot(np.array(losses))\n",
    "plt.title(\"Learning curve\")\n",
    "plt.figure()\n",
    "plt.plot(data_x, model(data_x[:, None])[:,0].data, c='r')\n",
    "plt.scatter(data_x, data_y, c='b')\n",
    "_ = plt.title(\"Trained model fitness\")\n"
   ]
  },
  {
   "cell_type": "markdown",
   "metadata": {},
   "source": [
    "## Train your first deep model\n",
    "\n",
    "Now we have learned the basics of Chainer. We can use it to train a deep model to classify MNIST digits. We will train a model on the MNIST dataset because the dataset is small.\n",
    "\n",
    "First we load the data and see what the images look like:"
   ]
  },
  {
   "cell_type": "code",
   "execution_count": 100,
   "metadata": {
    "ExecuteTime": {
     "end_time": "2019-08-07T15:21:00.006360Z",
     "start_time": "2019-08-07T15:20:59.083626Z"
    },
    "scrolled": false
   },
   "outputs": [
    {
     "name": "stdout",
     "output_type": "stream",
     "text": [
      "train[i][0] is the ith image that's flattened, and has shape: (784,)\n",
      "train[i][1] is the ith image's label, such as: 3\n"
     ]
    },
    {
     "data": {
      "image/png": "[encoded data removed]",
      "text/plain": [
       "<matplotlib.figure.Figure at 0x12858cf28>"
      ]
     },
     "metadata": {
      "needs_background": "light"
     },
     "output_type": "display_data"
    },
    {
     "data": {
      "image/png": "[encoded data removed]",
      "text/plain": [
       "<matplotlib.figure.Figure at 0x128476710>"
      ]
     },
     "metadata": {
      "needs_background": "light"
     },
     "output_type": "display_data"
    }
   ],
   "source": [
    "train, test = chainer.datasets.get_mnist()\n",
    "# use train[data_point_index] to access data\n",
    "print(\"train[i][0] is the ith image that's flattened, and has shape:\", train[12][0].shape)\n",
    "print(\"train[i][1] is the ith image's label, such as:\", train[12][1])\n",
    "# here we visualize two of them\n",
    "plt.imshow(train[12][0].reshape([28, 28,]))\n",
    "plt.title(\"Label: %s\" % train[12][1])\n",
    "plt.figure()\n",
    "plt.imshow(train[42][0].reshape([28, 28,]))\n",
    "_ = plt.title(\"Label: %s\" % train[42][1])"
   ]
  },
  {
   "cell_type": "markdown",
   "metadata": {},
   "source": [
    "Next we will provide some boilerplate code and train a linear classifier as an example:"
   ]
  },
  {
   "cell_type": "code",
   "execution_count": 107,
   "metadata": {
    "ExecuteTime": {
     "end_time": "2019-08-07T15:23:32.784068Z",
     "start_time": "2019-08-07T15:23:25.355333Z"
    }
   },
   "outputs": [
    {
     "name": "stdout",
     "output_type": "stream",
     "text": [
      "accuracy: 0.0625; loss: 2.37243390083\n",
      "accuracy_test: 0.1099; loss_test: 2.29473519325\n",
      "accuracy: 0.885; loss: 0.556508550644\n",
      "accuracy_test: 0.4874; loss_test: 1.43382760882\n",
      "accuracy: 0.8725; loss: 0.503271820545\n",
      "accuracy_test: 0.6213; loss_test: 1.09979999065\n",
      "accuracy: 0.8675; loss: 0.474917731285\n",
      "accuracy_test: 0.69115; loss_test: 0.920684948564\n",
      "accuracy: 0.8875; loss: 0.413396104574\n",
      "accuracy_test: 0.73388; loss_test: 0.80780749917\n",
      "accuracy: 0.8975; loss: 0.339917939603\n",
      "accuracy_test: 0.763233333333; loss_test: 0.728793253501\n",
      "accuracy: 0.905; loss: 0.348894730806\n",
      "accuracy_test: 0.7841; loss_test: 0.671228489705\n",
      "accuracy: 0.8925; loss: 0.430424574912\n",
      "accuracy_test: 0.8002125; loss_test: 0.626985758543\n",
      "accuracy: 0.8875; loss: 0.371588749588\n",
      "accuracy_test: 0.812822222222; loss_test: 0.591778109471\n",
      "accuracy: 0.9; loss: 0.372491746843\n",
      "accuracy_test: 0.82304; loss_test: 0.56299341917\n",
      "accuracy: 0.94; loss: 0.259090362787\n",
      "accuracy_test: 0.831327272727; loss_test: 0.539256721735\n",
      "accuracy: 0.94; loss: 0.271850432456\n",
      "accuracy_test: 0.838508333333; loss_test: 0.519238099456\n",
      "accuracy: 0.8975; loss: 0.336876812577\n",
      "accuracy_test: 0.844692307692; loss_test: 0.501941380592\n",
      "accuracy: 0.9275; loss: 0.260674971044\n",
      "accuracy_test: 0.850107142857; loss_test: 0.486881916012\n",
      "accuracy: 0.9325; loss: 0.26923370868\n",
      "accuracy_test: 0.8546; loss_test: 0.473912652334\n",
      "accuracy: 0.9275; loss: 0.263282930255\n",
      "accuracy_test: 0.858625; loss_test: 0.462162401527\n",
      "accuracy: 0.93; loss: 0.210577394217\n",
      "accuracy_test: 0.862211764706; loss_test: 0.451937089948\n",
      "accuracy: 0.9125; loss: 0.319696034193\n",
      "accuracy_test: 0.865483333333; loss_test: 0.442649289966\n",
      "accuracy: 0.925; loss: 0.283651770055\n",
      "accuracy_test: 0.868326315789; loss_test: 0.434382573554\n",
      "accuracy: 0.92; loss: 0.27360909462\n",
      "accuracy_test: 0.870935; loss_test: 0.426983766258\n",
      "accuracy: 0.9075; loss: 0.279732453227\n",
      "accuracy_test: 0.87329047619; loss_test: 0.420172494082\n",
      "accuracy: 0.9225; loss: 0.261601743102\n",
      "accuracy_test: 0.875481818182; loss_test: 0.413884676316\n",
      "accuracy: 0.9075; loss: 0.285317001641\n",
      "accuracy_test: 0.877373913043; loss_test: 0.408257812262\n",
      "accuracy: 0.915; loss: 0.311582888365\n",
      "accuracy_test: 0.879270833333; loss_test: 0.402626555413\n",
      "accuracy: 0.945; loss: 0.219479350448\n",
      "accuracy_test: 0.881072; loss_test: 0.397481167316\n",
      "accuracy: 0.9275; loss: 0.248371743262\n",
      "accuracy_test: 0.913612; loss_test: 0.316696454287\n"
     ]
    }
   ],
   "source": [
    "def run(model, batchsize=16, num_epochs=2):\n",
    "    \n",
    "    optimizer = chainer.optimizers.Adam() # we will use chainer's Adam implementation instead of writing our own gradient based optimization\n",
    "    optimizer.setup(model)\n",
    "    \n",
    "    stats = defaultdict(lambda: deque(maxlen=25))\n",
    "    stats_test = defaultdict(lambda: deque(maxlen=25))\n",
    "    for epoch in range(num_epochs):\n",
    "        train_iter = chainer.iterators.SerialIterator(train, batchsize, repeat=False, shuffle=True)\n",
    "        test_iter = chainer.iterators.SerialIterator(test, batchsize, repeat=False, shuffle=False)\n",
    "        \n",
    "        for itr, batch in enumerate(train_iter):\n",
    "            xs = np.concatenate([datum[0][None, :] for datum in batch])\n",
    "            ys = np.array([datum[1] for datum in batch])\n",
    "\n",
    "            logits = model(xs)\n",
    "\n",
    "            loss = F.softmax_cross_entropy(logits, ys)\n",
    "            model.cleargrads()\n",
    "            loss.backward()\n",
    "            optimizer.update()\n",
    "            \n",
    "            # calculate stats\n",
    "            stats[\"loss\"].append(float(loss.data))\n",
    "            stats[\"accuracy\"].append(float((logits.data.argmax(1) == ys).sum() / batchsize))\n",
    "            if itr % 300 == 0:\n",
    "                print(\"; \".join(\"%s: %s\" % (k, np.mean(vs)) for k, vs in stats.items()))\n",
    "                x_test = np.concatenate([datum[0][None, :] for datum in test])\n",
    "                y_test = np.array([datum[1] for datum in test])\n",
    "#                 print(x_test.shape)\n",
    "                logits_test = model(x_test)\n",
    "\n",
    "                loss_test = F.softmax_cross_entropy(logits_test, y_test)\n",
    "                \n",
    "                stats_test[\"loss_test\"].append(float(loss_test.data))\n",
    "                stats_test[\"accuracy_test\"].append(float((logits_test.data.argmax(1) == y_test).sum() / x_test.shape[0]))\n",
    "                print(\"; \".join(\"%s: %s\" % (k, np.mean(vs)) for k, vs in stats_test.items()))\n",
    "                \n",
    "\n",
    "# try a simple linear model\n",
    "run(L.Linear(None, 10))"
   ]
  },
  {
   "cell_type": "markdown",
   "metadata": {},
   "source": [
    "Next we will try to improve performance by training an MLP instead. A partial implementation is provided for you to fill in:"
   ]
  },
  {
   "cell_type": "code",
   "execution_count": 102,
   "metadata": {
    "ExecuteTime": {
     "end_time": "2019-08-07T15:21:37.132503Z",
     "start_time": "2019-08-07T15:21:07.226571Z"
    }
   },
   "outputs": [
    {
     "name": "stdout",
     "output_type": "stream",
     "text": [
      "accuracy: 0.1875; loss: 2.28345155716\n",
      "accuracy_test: 0.1947; loss_test: 2.26520442963\n",
      "accuracy: 0.9125; loss: 0.327069550753\n",
      "accuracy_test: 0.55125; loss_test: 1.28610476851\n",
      "accuracy: 0.905; loss: 0.282831045985\n",
      "accuracy_test: 0.6721; loss_test: 0.950437535842\n",
      "accuracy: 0.91; loss: 0.2612454772\n",
      "accuracy_test: 0.739375; loss_test: 0.759144209325\n",
      "accuracy: 0.95; loss: 0.140617291629\n",
      "accuracy_test: 0.78166; loss_test: 0.638757491112\n",
      "accuracy: 0.9475; loss: 0.20359044075\n",
      "accuracy_test: 0.810866666667; loss_test: 0.556981844207\n",
      "accuracy: 0.96; loss: 0.118744927049\n",
      "accuracy_test: 0.830614285714; loss_test: 0.500628120133\n",
      "accuracy: 0.965; loss: 0.127737160325\n",
      "accuracy_test: 0.8470875; loss_test: 0.453198674135\n",
      "accuracy: 0.9375; loss: 0.198069212735\n",
      "accuracy_test: 0.859366666667; loss_test: 0.417441178527\n",
      "accuracy: 0.9475; loss: 0.175675126016\n",
      "accuracy_test: 0.86949; loss_test: 0.388545822352\n",
      "accuracy: 0.9675; loss: 0.125985425115\n",
      "accuracy_test: 0.878272727273; loss_test: 0.363075687127\n",
      "accuracy: 0.9475; loss: 0.16658164233\n",
      "accuracy_test: 0.885833333333; loss_test: 0.341694744925\n",
      "accuracy: 0.9725; loss: 0.102839408517\n",
      "accuracy_test: 0.892161538462; loss_test: 0.323576557522\n",
      "accuracy: 0.975; loss: 0.0640390819311\n",
      "accuracy_test: 0.897521428571; loss_test: 0.307715075889\n",
      "accuracy: 0.97; loss: 0.0786004951596\n",
      "accuracy_test: 0.902193333333; loss_test: 0.293973406653\n",
      "accuracy: 0.9775; loss: 0.0620274108648\n",
      "accuracy_test: 0.90615625; loss_test: 0.282681828365\n",
      "accuracy: 0.97; loss: 0.0937997913361\n",
      "accuracy_test: 0.909711764706; loss_test: 0.272279264296\n",
      "accuracy: 0.9825; loss: 0.053389775753\n",
      "accuracy_test: 0.913022222222; loss_test: 0.262766353786\n",
      "accuracy: 0.9775; loss: 0.0720383918285\n",
      "accuracy_test: 0.915989473684; loss_test: 0.254193725555\n",
      "accuracy: 0.98; loss: 0.0745080009103\n",
      "accuracy_test: 0.9187; loss_test: 0.246288062632\n",
      "accuracy: 0.9725; loss: 0.0705632519722\n",
      "accuracy_test: 0.92090952381; loss_test: 0.239890583924\n",
      "accuracy: 0.9825; loss: 0.069177724719\n",
      "accuracy_test: 0.922995454545; loss_test: 0.233715214513\n",
      "accuracy: 0.965; loss: 0.133646816611\n",
      "accuracy_test: 0.924982608696; loss_test: 0.227852577425\n",
      "accuracy: 0.985; loss: 0.0455943024158\n",
      "accuracy_test: 0.926925; loss_test: 0.222097838608\n",
      "accuracy: 0.9775; loss: 0.0665257394314\n",
      "accuracy_test: 0.928724; loss_test: 0.216722520292\n",
      "accuracy: 0.9725; loss: 0.0759560278058\n",
      "accuracy_test: 0.95986; loss_test: 0.129694827497\n"
     ]
    }
   ],
   "source": [
    "class MLP(chainer.Chain):\n",
    "\n",
    "    def __init__(self, n_units, n_out):\n",
    "        super(MLP, self).__init__()\n",
    "        with self.init_scope():\n",
    "            # the size of the inputs to each layer will be inferred\n",
    "            self.l1 = L.Linear(None, n_units)  # n_in -> n_units\n",
    "            self.l2 = L.Linear(None, n_units)  # n_units -> n_units\n",
    "            self.l3 = L.Linear(None, n_out)  # n_units -> n_out\n",
    "\n",
    "    def __call__(self, x):\n",
    "        # *** YOUR CODE HERE TO BUILD AN MLP W/ self.l1, self.l2, self.l3 ***\n",
    "        # \n",
    "        # Hint: you should make use of non-linearities / activation functions\n",
    "        #     https://docs.chainer.org/en/stable/reference/functions.html#activation-functions\n",
    "        out1 = F.relu(self.l1(x))\n",
    "        out2 = F.relu(self.l2(out1))\n",
    "        out3 = self.l3(out2)\n",
    "        return out3\n",
    "#         raise NotImplementedError()\n",
    "run(MLP(200, 10))"
   ]
  },
  {
   "cell_type": "markdown",
   "metadata": {},
   "source": [
    "Next you should try to implement logging test loss and see if the model is overfitting."
   ]
  },
  {
   "cell_type": "code",
   "execution_count": 103,
   "metadata": {
    "ExecuteTime": {
     "end_time": "2019-08-07T15:22:09.800267Z",
     "start_time": "2019-08-07T15:21:37.134922Z"
    }
   },
   "outputs": [
    {
     "name": "stdout",
     "output_type": "stream",
     "text": [
      "accuracy_test: 0.1363; loss_test: 2.27495455742\n",
      "accuracy_test: 0.5058; loss_test: 1.32356718183\n",
      "accuracy_test: 0.6453; loss_test: 0.963079541922\n",
      "accuracy_test: 0.719725; loss_test: 0.769475065172\n",
      "accuracy_test: 0.76606; loss_test: 0.647280606627\n",
      "accuracy_test: 0.795033333333; loss_test: 0.571287463109\n",
      "accuracy_test: 0.817485714286; loss_test: 0.51134335569\n",
      "accuracy_test: 0.8349625; loss_test: 0.463440630585\n",
      "accuracy_test: 0.848611111111; loss_test: 0.426674632563\n",
      "accuracy_test: 0.85984; loss_test: 0.397384820879\n",
      "accuracy_test: 0.869290909091; loss_test: 0.371946102516\n",
      "accuracy_test: 0.877466666667; loss_test: 0.349468545367\n",
      "accuracy_test: 0.883984615385; loss_test: 0.331622787393\n",
      "accuracy_test: 0.889664285714; loss_test: 0.315997939025\n",
      "accuracy_test: 0.894873333333; loss_test: 0.301473552485\n",
      "accuracy_test: 0.898775; loss_test: 0.290809827391\n",
      "accuracy_test: 0.902988235294; loss_test: 0.278682853807\n",
      "accuracy_test: 0.906466666667; loss_test: 0.269461661991\n",
      "accuracy_test: 0.909663157895; loss_test: 0.260786843535\n",
      "accuracy_test: 0.91248; loss_test: 0.253283576667\n",
      "accuracy_test: 0.915142857143; loss_test: 0.246271671993\n",
      "accuracy_test: 0.917763636364; loss_test: 0.239200094207\n",
      "accuracy_test: 0.920143478261; loss_test: 0.232534400795\n",
      "accuracy_test: 0.922329166667; loss_test: 0.226634914987\n",
      "accuracy_test: 0.924412; loss_test: 0.220823129117\n",
      "accuracy_test: 0.95788; loss_test: 0.133310106993\n"
     ]
    }
   ],
   "source": [
    "def better_run(model, batchsize=16, num_epochs=2):\n",
    "\n",
    "    optimizer = chainer.optimizers.Adam() # we will use chainer's Adam implementation instead of writing our own gradient based optimization\n",
    "    optimizer.setup(model)\n",
    "    \n",
    "    stats = defaultdict(lambda: deque(maxlen=25))\n",
    "    stats_test = defaultdict(lambda: deque(maxlen=25))\n",
    "    for epoch in range(num_epochs):\n",
    "        train_iter = chainer.iterators.SerialIterator(train, batchsize, repeat=False, shuffle=True)\n",
    "        for itr, batch in enumerate(train_iter):\n",
    "            xs = np.concatenate([datum[0][None, :] for datum in batch])\n",
    "            ys = np.array([datum[1] for datum in batch])\n",
    "\n",
    "            logits = model(xs)\n",
    "\n",
    "            loss = F.softmax_cross_entropy(logits, ys)\n",
    "            model.cleargrads()\n",
    "            loss.backward()\n",
    "            optimizer.update()\n",
    "            \n",
    "            # calculate stats\n",
    "            stats[\"loss\"].append(float(loss.data))\n",
    "            stats[\"accuracy\"].append(float((logits.data.argmax(1) == ys).sum() / batchsize))\n",
    "            if itr % 300 == 0:\n",
    "#                 test_iter = chainer.iterators.SerialIterator(test, batchsize, repeat=False, shuffle=False)\n",
    "                # *** YOUR CODE implement logging of stats on test set ***\n",
    "#                 print(\"; \".join(\"%s: %s\" % (k, np.mean(vs)) for k, vs in stats.items()))\n",
    "                x_test = np.concatenate([datum[0][None, :] for datum in test])\n",
    "                y_test = np.array([datum[1] for datum in test])\n",
    "#                 print(x_test.shape)\n",
    "                logits_test = model(x_test)\n",
    "\n",
    "                loss_test = F.softmax_cross_entropy(logits_test, y_test)\n",
    "                \n",
    "                stats_test[\"loss_test\"].append(float(loss_test.data))\n",
    "                stats_test[\"accuracy_test\"].append(float((logits_test.data.argmax(1) == y_test).sum() / x_test.shape[0]))\n",
    "                print(\"; \".join(\"%s: %s\" % (k, np.mean(vs)) for k, vs in stats_test.items()))\n",
    "\n",
    "better_run(MLP(200, 10))"
   ]
  },
  {
   "cell_type": "markdown",
   "metadata": {},
   "source": [
    "Try different variants!\n",
    "\n",
    "- Does using a ConvNet improve performance (reduce overfitting?)\n",
    "- Try changing the learning rate and observe the effect\n",
    "- Does the model train if you give it correlated gradients? (consecutively sample many batches of \"1\", then many batches of \"2\", ... etc"
   ]
  }
 ],
 "metadata": {
  "kernelspec": {
   "display_name": "Python 3",
   "language": "python",
   "name": "python3"
  },
  "language_info": {
   "codemirror_mode": {
    "name": "ipython",
    "version": 3
   },
   "file_extension": ".py",
   "mimetype": "text/x-python",
   "name": "python",
   "nbconvert_exporter": "python",
   "pygments_lexer": "ipython3",
   "version": "3.5.3"
  },
  "toc": {
   "base_numbering": 1,
   "nav_menu": {},
   "number_sections": true,
   "sideBar": true,
   "skip_h1_title": false,
   "title_cell": "Table of Contents",
   "title_sidebar": "Contents",
   "toc_cell": false,
   "toc_position": {},
   "toc_section_display": true,
   "toc_window_display": false
  },
  "varInspector": {
   "cols": {
    "lenName": 16,
    "lenType": 16,
    "lenVar": 40
   },
   "kernels_config": {
    "python": {
     "delete_cmd_postfix": "",
     "delete_cmd_prefix": "del ",
     "library": "var_list.py",
     "varRefreshCmd": "print(var_dic_list())"
    },
    "r": {
     "delete_cmd_postfix": ") ",
     "delete_cmd_prefix": "rm(",
     "library": "var_list.r",
     "varRefreshCmd": "cat(var_dic_list()) "
    }
   },
   "types_to_exclude": [
    "module",
    "function",
    "builtin_function_or_method",
    "instance",
    "_Feature"
   ],
   "window_display": false
  }
 },
 "nbformat": 4,
 "nbformat_minor": 1
}
